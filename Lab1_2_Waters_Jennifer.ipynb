{
 "cells": [
  {
   "cell_type": "markdown",
   "id": "9f4a9365",
   "metadata": {},
   "source": [
    "#Lab1_2_Waters_Jennifer"
   ]
  },
  {
   "cell_type": "code",
   "execution_count": 4,
   "id": "6651d6c9",
   "metadata": {},
   "outputs": [
    {
     "name": "stdout",
     "output_type": "stream",
     "text": [
      "587.0\n"
     ]
    }
   ],
   "source": [
    "book_copies = 40\n",
    "book_cover_price = 22.95\n",
    "discount_price = 0.60 * book_cover_price\n",
    "book_cost = book_copies * discount_price\n",
    "shipping_cost = (book_copies - 1) * 0.80 + 5\n",
    "total_wholesale_cost = book_cost + shipping_cost\n",
    "print(total_wholesale_cost)"
   ]
  }
 ],
 "metadata": {
  "kernelspec": {
   "display_name": "Python 3 (ipykernel)",
   "language": "python",
   "name": "python3"
  },
  "language_info": {
   "codemirror_mode": {
    "name": "ipython",
    "version": 3
   },
   "file_extension": ".py",
   "mimetype": "text/x-python",
   "name": "python",
   "nbconvert_exporter": "python",
   "pygments_lexer": "ipython3",
   "version": "3.9.13"
  }
 },
 "nbformat": 4,
 "nbformat_minor": 5
}
